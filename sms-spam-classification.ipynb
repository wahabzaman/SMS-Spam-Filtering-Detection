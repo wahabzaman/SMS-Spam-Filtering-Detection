{
 "cells": [
  {
   "cell_type": "markdown",
   "metadata": {
    "papermill": {
     "duration": 0.0144,
     "end_time": "2021-03-27T12:23:09.204504",
     "exception": false,
     "start_time": "2021-03-27T12:23:09.190104",
     "status": "completed"
    },
    "tags": []
   },
   "source": [
    "# Spam Classification Test"
   ]
  },
  {
   "cell_type": "markdown",
   "metadata": {
    "papermill": {
     "duration": 0.012957,
     "end_time": "2021-03-27T12:23:09.231060",
     "exception": false,
     "start_time": "2021-03-27T12:23:09.218103",
     "status": "completed"
    },
    "tags": []
   },
   "source": [
    "## Setup"
   ]
  },
  {
   "cell_type": "code",
   "execution_count": 1,
   "metadata": {
    "_cell_guid": "b1076dfc-b9ad-4769-8c92-a6c4dae69d19",
    "_uuid": "8f2839f25d086af736a60e9eeb907d3b93b6e0e5",
    "execution": {
     "iopub.execute_input": "2021-03-27T12:23:09.265539Z",
     "iopub.status.busy": "2021-03-27T12:23:09.264902Z",
     "iopub.status.idle": "2021-03-27T12:23:11.078911Z",
     "shell.execute_reply": "2021-03-27T12:23:11.078166Z"
    },
    "papermill": {
     "duration": 1.834742,
     "end_time": "2021-03-27T12:23:11.079113",
     "exception": false,
     "start_time": "2021-03-27T12:23:09.244371",
     "status": "completed"
    },
    "tags": []
   },
   "outputs": [
    {
     "name": "stdout",
     "output_type": "stream",
     "text": [
      "/kaggle/input/sms-spam-collection-dataset/spam.csv\n"
     ]
    }
   ],
   "source": [
    "# Data\n",
    "import numpy as np # linear algebra\n",
    "import pandas as pd # data processing, CSV file I/O (e.g. pd.read_csv)\n",
    "from nltk.stem import SnowballStemmer # Stemmer\n",
    "from nltk.corpus import stopwords # Removes Stopwords\n",
    "from sklearn.model_selection import train_test_split\n",
    "\n",
    "# Visualization\n",
    "import matplotlib as mpl\n",
    "import matplotlib.pyplot as plt\n",
    "\n",
    "# Learning\n",
    "from sklearn.feature_extraction.text import TfidfVectorizer\n",
    "\n",
    "# Other Imports\n",
    "import string\n",
    "\n",
    "import os\n",
    "for dirname, _, filenames in os.walk('/kaggle/input'):\n",
    "    for filename in filenames:\n",
    "        print(os.path.join(dirname, filename))"
   ]
  },
  {
   "cell_type": "markdown",
   "metadata": {
    "papermill": {
     "duration": 0.014256,
     "end_time": "2021-03-27T12:23:11.109170",
     "exception": false,
     "start_time": "2021-03-27T12:23:11.094914",
     "status": "completed"
    },
    "tags": []
   },
   "source": [
    "## Preprocessing\n",
    "### Read Data"
   ]
  },
  {
   "cell_type": "code",
   "execution_count": 2,
   "metadata": {
    "execution": {
     "iopub.execute_input": "2021-03-27T12:23:11.148954Z",
     "iopub.status.busy": "2021-03-27T12:23:11.148252Z",
     "iopub.status.idle": "2021-03-27T12:23:11.208775Z",
     "shell.execute_reply": "2021-03-27T12:23:11.208078Z"
    },
    "papermill": {
     "duration": 0.085709,
     "end_time": "2021-03-27T12:23:11.208925",
     "exception": false,
     "start_time": "2021-03-27T12:23:11.123216",
     "status": "completed"
    },
    "tags": []
   },
   "outputs": [
    {
     "data": {
      "text/html": [
       "<div>\n",
       "<style scoped>\n",
       "    .dataframe tbody tr th:only-of-type {\n",
       "        vertical-align: middle;\n",
       "    }\n",
       "\n",
       "    .dataframe tbody tr th {\n",
       "        vertical-align: top;\n",
       "    }\n",
       "\n",
       "    .dataframe thead th {\n",
       "        text-align: right;\n",
       "    }\n",
       "</style>\n",
       "<table border=\"1\" class=\"dataframe\">\n",
       "  <thead>\n",
       "    <tr style=\"text-align: right;\">\n",
       "      <th></th>\n",
       "      <th>v1</th>\n",
       "      <th>v2</th>\n",
       "      <th>Unnamed: 2</th>\n",
       "      <th>Unnamed: 3</th>\n",
       "      <th>Unnamed: 4</th>\n",
       "    </tr>\n",
       "  </thead>\n",
       "  <tbody>\n",
       "    <tr>\n",
       "      <th>0</th>\n",
       "      <td>ham</td>\n",
       "      <td>Go until jurong point, crazy.. Available only ...</td>\n",
       "      <td>NaN</td>\n",
       "      <td>NaN</td>\n",
       "      <td>NaN</td>\n",
       "    </tr>\n",
       "    <tr>\n",
       "      <th>1</th>\n",
       "      <td>ham</td>\n",
       "      <td>Ok lar... Joking wif u oni...</td>\n",
       "      <td>NaN</td>\n",
       "      <td>NaN</td>\n",
       "      <td>NaN</td>\n",
       "    </tr>\n",
       "    <tr>\n",
       "      <th>2</th>\n",
       "      <td>spam</td>\n",
       "      <td>Free entry in 2 a wkly comp to win FA Cup fina...</td>\n",
       "      <td>NaN</td>\n",
       "      <td>NaN</td>\n",
       "      <td>NaN</td>\n",
       "    </tr>\n",
       "    <tr>\n",
       "      <th>3</th>\n",
       "      <td>ham</td>\n",
       "      <td>U dun say so early hor... U c already then say...</td>\n",
       "      <td>NaN</td>\n",
       "      <td>NaN</td>\n",
       "      <td>NaN</td>\n",
       "    </tr>\n",
       "    <tr>\n",
       "      <th>4</th>\n",
       "      <td>ham</td>\n",
       "      <td>Nah I don't think he goes to usf, he lives aro...</td>\n",
       "      <td>NaN</td>\n",
       "      <td>NaN</td>\n",
       "      <td>NaN</td>\n",
       "    </tr>\n",
       "  </tbody>\n",
       "</table>\n",
       "</div>"
      ],
      "text/plain": [
       "     v1                                                 v2 Unnamed: 2  \\\n",
       "0   ham  Go until jurong point, crazy.. Available only ...        NaN   \n",
       "1   ham                      Ok lar... Joking wif u oni...        NaN   \n",
       "2  spam  Free entry in 2 a wkly comp to win FA Cup fina...        NaN   \n",
       "3   ham  U dun say so early hor... U c already then say...        NaN   \n",
       "4   ham  Nah I don't think he goes to usf, he lives aro...        NaN   \n",
       "\n",
       "  Unnamed: 3 Unnamed: 4  \n",
       "0        NaN        NaN  \n",
       "1        NaN        NaN  \n",
       "2        NaN        NaN  \n",
       "3        NaN        NaN  \n",
       "4        NaN        NaN  "
      ]
     },
     "execution_count": 2,
     "metadata": {},
     "output_type": "execute_result"
    }
   ],
   "source": [
    "data = pd.read_csv(\"../input/sms-spam-collection-dataset/spam.csv\",encoding='latin-1')\n",
    "data.head()"
   ]
  },
  {
   "cell_type": "markdown",
   "metadata": {
    "papermill": {
     "duration": 0.014351,
     "end_time": "2021-03-27T12:23:11.237966",
     "exception": false,
     "start_time": "2021-03-27T12:23:11.223615",
     "status": "completed"
    },
    "tags": []
   },
   "source": [
    "### Edit Csv\n",
    "1. Remove unneccessary columns\n",
    "2. Rename columns"
   ]
  },
  {
   "cell_type": "code",
   "execution_count": 3,
   "metadata": {
    "execution": {
     "iopub.execute_input": "2021-03-27T12:23:11.280813Z",
     "iopub.status.busy": "2021-03-27T12:23:11.280109Z",
     "iopub.status.idle": "2021-03-27T12:23:11.284393Z",
     "shell.execute_reply": "2021-03-27T12:23:11.284864Z"
    },
    "papermill": {
     "duration": 0.032498,
     "end_time": "2021-03-27T12:23:11.285042",
     "exception": false,
     "start_time": "2021-03-27T12:23:11.252544",
     "status": "completed"
    },
    "tags": []
   },
   "outputs": [
    {
     "data": {
      "text/html": [
       "<div>\n",
       "<style scoped>\n",
       "    .dataframe tbody tr th:only-of-type {\n",
       "        vertical-align: middle;\n",
       "    }\n",
       "\n",
       "    .dataframe tbody tr th {\n",
       "        vertical-align: top;\n",
       "    }\n",
       "\n",
       "    .dataframe thead th {\n",
       "        text-align: right;\n",
       "    }\n",
       "</style>\n",
       "<table border=\"1\" class=\"dataframe\">\n",
       "  <thead>\n",
       "    <tr style=\"text-align: right;\">\n",
       "      <th></th>\n",
       "      <th>type</th>\n",
       "      <th>text</th>\n",
       "    </tr>\n",
       "  </thead>\n",
       "  <tbody>\n",
       "    <tr>\n",
       "      <th>0</th>\n",
       "      <td>ham</td>\n",
       "      <td>Go until jurong point, crazy.. Available only ...</td>\n",
       "    </tr>\n",
       "    <tr>\n",
       "      <th>1</th>\n",
       "      <td>ham</td>\n",
       "      <td>Ok lar... Joking wif u oni...</td>\n",
       "    </tr>\n",
       "    <tr>\n",
       "      <th>2</th>\n",
       "      <td>spam</td>\n",
       "      <td>Free entry in 2 a wkly comp to win FA Cup fina...</td>\n",
       "    </tr>\n",
       "    <tr>\n",
       "      <th>3</th>\n",
       "      <td>ham</td>\n",
       "      <td>U dun say so early hor... U c already then say...</td>\n",
       "    </tr>\n",
       "    <tr>\n",
       "      <th>4</th>\n",
       "      <td>ham</td>\n",
       "      <td>Nah I don't think he goes to usf, he lives aro...</td>\n",
       "    </tr>\n",
       "  </tbody>\n",
       "</table>\n",
       "</div>"
      ],
      "text/plain": [
       "   type                                               text\n",
       "0   ham  Go until jurong point, crazy.. Available only ...\n",
       "1   ham                      Ok lar... Joking wif u oni...\n",
       "2  spam  Free entry in 2 a wkly comp to win FA Cup fina...\n",
       "3   ham  U dun say so early hor... U c already then say...\n",
       "4   ham  Nah I don't think he goes to usf, he lives aro..."
      ]
     },
     "execution_count": 3,
     "metadata": {},
     "output_type": "execute_result"
    }
   ],
   "source": [
    "# 1\n",
    "data = data.drop([\"Unnamed: 2\", \"Unnamed: 3\", \"Unnamed: 4\"], axis=1)\n",
    "\n",
    "# 2\n",
    "data = data.rename(columns = {\"v1\":\"type\", \"v2\":\"text\"})\n",
    "data.head()"
   ]
  },
  {
   "cell_type": "markdown",
   "metadata": {
    "papermill": {
     "duration": 0.015303,
     "end_time": "2021-03-27T12:23:11.315523",
     "exception": false,
     "start_time": "2021-03-27T12:23:11.300220",
     "status": "completed"
    },
    "tags": []
   },
   "source": [
    "### Visualize Data"
   ]
  },
  {
   "cell_type": "code",
   "execution_count": 4,
   "metadata": {
    "execution": {
     "iopub.execute_input": "2021-03-27T12:23:11.358690Z",
     "iopub.status.busy": "2021-03-27T12:23:11.357842Z",
     "iopub.status.idle": "2021-03-27T12:23:11.842039Z",
     "shell.execute_reply": "2021-03-27T12:23:11.841373Z"
    },
    "papermill": {
     "duration": 0.511159,
     "end_time": "2021-03-27T12:23:11.842181",
     "exception": false,
     "start_time": "2021-03-27T12:23:11.331022",
     "status": "completed"
    },
    "tags": []
   },
   "outputs": [
    {
     "data": {
      "text/plain": [
       "array([<AxesSubplot:title={'center':'ham'}>,\n",
       "       <AxesSubplot:title={'center':'spam'}>], dtype=object)"
      ]
     },
     "execution_count": 4,
     "metadata": {},
     "output_type": "execute_result"
    },
    {
     "data": {
      "image/png": "[encoded data removed]",
      "text/plain": [
       "<Figure size 792x360 with 2 Axes>"
      ]
     },
     "metadata": {
      "needs_background": "light"
     },
     "output_type": "display_data"
    }
   ],
   "source": [
    "# Add column \"length\"\n",
    "data['length'] = data['text'].apply(len)\n",
    "\n",
    "# Configure graph\n",
    "mpl.rcParams[\"patch.force_edgecolor\"] = True\n",
    "plt.style.use(\"seaborn-bright\")\n",
    "\n",
    "# Show Graph\n",
    "data.hist(column='length', by='type', bins=50,figsize=(11,5))"
   ]
  },
  {
   "cell_type": "markdown",
   "metadata": {
    "papermill": {
     "duration": 0.016331,
     "end_time": "2021-03-27T12:23:11.874810",
     "exception": false,
     "start_time": "2021-03-27T12:23:11.858479",
     "status": "completed"
    },
    "tags": []
   },
   "source": [
    "### Preprocess Text & Vectorize\n",
    "1. Remove punctuation\n",
    "2. Remove stopwords\n",
    "3. Convert to lowercase\n",
    "4. Stomp words"
   ]
  },
  {
   "cell_type": "code",
   "execution_count": 5,
   "metadata": {
    "execution": {
     "iopub.execute_input": "2021-03-27T12:23:11.914803Z",
     "iopub.status.busy": "2021-03-27T12:23:11.914130Z",
     "iopub.status.idle": "2021-03-27T12:23:11.917077Z",
     "shell.execute_reply": "2021-03-27T12:23:11.916434Z"
    },
    "papermill": {
     "duration": 0.026097,
     "end_time": "2021-03-27T12:23:11.917215",
     "exception": false,
     "start_time": "2021-03-27T12:23:11.891118",
     "status": "completed"
    },
    "tags": []
   },
   "outputs": [],
   "source": [
    "def preprocess(text):\n",
    "    # 1\n",
    "    text = text.translate(str.maketrans(\"\", \"\", string.punctuation))\n",
    "    # 2 & 3\n",
    "    text = [word for word in text.split() if word.lower() not in stopwords.words('english')]\n",
    "    \n",
    "    words = \"\"\n",
    "    for c in text:\n",
    "        # 4\n",
    "        stemmer = SnowballStemmer(\"english\")\n",
    "        words += (stemmer.stem(c)) + \" \"\n",
    "    \n",
    "    return words"
   ]
  },
  {
   "cell_type": "markdown",
   "metadata": {
    "papermill": {
     "duration": 0.016248,
     "end_time": "2021-03-27T12:23:11.950410",
     "exception": false,
     "start_time": "2021-03-27T12:23:11.934162",
     "status": "completed"
    },
    "tags": []
   },
   "source": [
    "1. Apply preprocessing \n",
    "2. Split data into \"test\" and \"train\" subsets\n",
    "3. Fit Training-Data (avoid Data-Leak!)\n",
    "4. Transform all Data"
   ]
  },
  {
   "cell_type": "code",
   "execution_count": 6,
   "metadata": {
    "execution": {
     "iopub.execute_input": "2021-03-27T12:23:11.992174Z",
     "iopub.status.busy": "2021-03-27T12:23:11.991439Z",
     "iopub.status.idle": "2021-03-27T12:23:24.403510Z",
     "shell.execute_reply": "2021-03-27T12:23:24.402838Z"
    },
    "papermill": {
     "duration": 12.436342,
     "end_time": "2021-03-27T12:23:24.403673",
     "exception": false,
     "start_time": "2021-03-27T12:23:11.967331",
     "status": "completed"
    },
    "tags": []
   },
   "outputs": [
    {
     "name": "stderr",
     "output_type": "stream",
     "text": [
      "/opt/conda/lib/python3.7/site-packages/sklearn/utils/validation.py:72: FutureWarning: Pass input=english as keyword args. From version 1.0 (renaming of 0.25) passing these as positional arguments will result in an error\n",
      "  \"will result in an error\", FutureWarning)\n"
     ]
    }
   ],
   "source": [
    "# 1\n",
    "preprocessed_text = data[\"text\"].copy()\n",
    "preprocessed_text = preprocessed_text.apply(preprocess)\n",
    "\n",
    "# 2\n",
    "features_train, features_test, labels_train, labels_test = train_test_split(preprocessed_text, data[\"type\"], test_size=0.3, random_state=111)\n",
    "\n",
    "# 3\n",
    "vectorizer = TfidfVectorizer(\"english\")\n",
    "vectorizer.fit(features_train)\n",
    "\n",
    "# 4\n",
    "features_train = vectorizer.transform(features_train)\n",
    "features_test = vectorizer.transform(features_test)"
   ]
  },
  {
   "cell_type": "markdown",
   "metadata": {
    "papermill": {
     "duration": 0.016768,
     "end_time": "2021-03-27T12:23:24.437559",
     "exception": false,
     "start_time": "2021-03-27T12:23:24.420791",
     "status": "completed"
    },
    "tags": []
   },
   "source": [
    "### Train Model\n",
    "1. Initialize Kernel\n",
    "2. Fit training features and labels\n",
    "3. Check model accuracy"
   ]
  },
  {
   "cell_type": "code",
   "execution_count": 7,
   "metadata": {
    "execution": {
     "iopub.execute_input": "2021-03-27T12:23:24.477506Z",
     "iopub.status.busy": "2021-03-27T12:23:24.476793Z",
     "iopub.status.idle": "2021-03-27T12:23:25.071218Z",
     "shell.execute_reply": "2021-03-27T12:23:25.070641Z"
    },
    "papermill": {
     "duration": 0.616913,
     "end_time": "2021-03-27T12:23:25.071356",
     "exception": false,
     "start_time": "2021-03-27T12:23:24.454443",
     "status": "completed"
    },
    "tags": []
   },
   "outputs": [
    {
     "data": {
      "text/plain": [
       "0.9820574162679426"
      ]
     },
     "execution_count": 7,
     "metadata": {},
     "output_type": "execute_result"
    }
   ],
   "source": [
    "from sklearn.metrics import accuracy_score\n",
    "from sklearn.svm import SVC\n",
    "\n",
    "# 1\n",
    "svc = SVC(kernel=\"sigmoid\", gamma = 1.0)\n",
    "# 2\n",
    "svc.fit(features_train, labels_train)\n",
    "# 3\n",
    "prediction = svc.predict(features_test)\n",
    "accuracy_score(labels_test, prediction)"
   ]
  },
  {
   "cell_type": "markdown",
   "metadata": {
    "papermill": {
     "duration": 0.017304,
     "end_time": "2021-03-27T12:23:25.106649",
     "exception": false,
     "start_time": "2021-03-27T12:23:25.089345",
     "status": "completed"
    },
    "tags": []
   },
   "source": [
    "### Train more models\n",
    "(Based on [this notebook](https://www.kaggle.com/muzzzdy/sms-spam-detection-with-various-classifiers))"
   ]
  },
  {
   "cell_type": "code",
   "execution_count": 8,
   "metadata": {
    "execution": {
     "iopub.execute_input": "2021-03-27T12:23:25.147846Z",
     "iopub.status.busy": "2021-03-27T12:23:25.146972Z",
     "iopub.status.idle": "2021-03-27T12:23:25.302186Z",
     "shell.execute_reply": "2021-03-27T12:23:25.301413Z"
    },
    "papermill": {
     "duration": 0.178431,
     "end_time": "2021-03-27T12:23:25.302348",
     "exception": false,
     "start_time": "2021-03-27T12:23:25.123917",
     "status": "completed"
    },
    "tags": []
   },
   "outputs": [],
   "source": [
    "from sklearn.naive_bayes import MultinomialNB\n",
    "from sklearn.tree import DecisionTreeClassifier\n",
    "from sklearn.linear_model import LogisticRegression\n",
    "from sklearn.neighbors import KNeighborsClassifier\n",
    "from sklearn.ensemble import RandomForestClassifier\n",
    "from sklearn.ensemble import AdaBoostClassifier\n",
    "from sklearn.ensemble import BaggingClassifier\n",
    "from sklearn.ensemble import ExtraTreesClassifier\n",
    "from sklearn.metrics import accuracy_score"
   ]
  },
  {
   "cell_type": "code",
   "execution_count": 9,
   "metadata": {
    "execution": {
     "iopub.execute_input": "2021-03-27T12:23:25.345429Z",
     "iopub.status.busy": "2021-03-27T12:23:25.344758Z",
     "iopub.status.idle": "2021-03-27T12:23:25.347990Z",
     "shell.execute_reply": "2021-03-27T12:23:25.347349Z"
    },
    "papermill": {
     "duration": 0.027819,
     "end_time": "2021-03-27T12:23:25.348127",
     "exception": false,
     "start_time": "2021-03-27T12:23:25.320308",
     "status": "completed"
    },
    "tags": []
   },
   "outputs": [],
   "source": [
    "knc = KNeighborsClassifier(n_neighbors=49)\n",
    "mnb = MultinomialNB(alpha=0.2)\n",
    "dtc = DecisionTreeClassifier(min_samples_split=7, random_state=111)\n",
    "lrc = LogisticRegression(solver='liblinear', penalty='l1')\n",
    "rfc = RandomForestClassifier(n_estimators=31, random_state=111)\n",
    "abc = AdaBoostClassifier(n_estimators=62, random_state=111)\n",
    "bc = BaggingClassifier(n_estimators=9, random_state=111)\n",
    "etc = ExtraTreesClassifier(n_estimators=9, random_state=111)"
   ]
  },
  {
   "cell_type": "markdown",
   "metadata": {
    "papermill": {
     "duration": 0.016998,
     "end_time": "2021-03-27T12:23:25.382770",
     "exception": false,
     "start_time": "2021-03-27T12:23:25.365772",
     "status": "completed"
    },
    "tags": []
   },
   "source": [
    "Create list of classifiers and iterate through them"
   ]
  },
  {
   "cell_type": "code",
   "execution_count": 10,
   "metadata": {
    "execution": {
     "iopub.execute_input": "2021-03-27T12:23:25.423848Z",
     "iopub.status.busy": "2021-03-27T12:23:25.423030Z",
     "iopub.status.idle": "2021-03-27T12:23:25.426649Z",
     "shell.execute_reply": "2021-03-27T12:23:25.426114Z"
    },
    "papermill": {
     "duration": 0.026526,
     "end_time": "2021-03-27T12:23:25.426796",
     "exception": false,
     "start_time": "2021-03-27T12:23:25.400270",
     "status": "completed"
    },
    "tags": []
   },
   "outputs": [],
   "source": [
    "classifiers = {'SVC' : svc,'KN' : knc, 'NB': mnb, 'DT': dtc, 'LR': lrc, 'RF': rfc, 'AdaBoost': abc, 'BgC': bc, 'ETC': etc}"
   ]
  },
  {
   "cell_type": "code",
   "execution_count": 11,
   "metadata": {
    "execution": {
     "iopub.execute_input": "2021-03-27T12:23:25.475358Z",
     "iopub.status.busy": "2021-03-27T12:23:25.473568Z",
     "iopub.status.idle": "2021-03-27T12:23:28.759723Z",
     "shell.execute_reply": "2021-03-27T12:23:28.760218Z"
    },
    "papermill": {
     "duration": 3.316028,
     "end_time": "2021-03-27T12:23:28.760405",
     "exception": false,
     "start_time": "2021-03-27T12:23:25.444377",
     "status": "completed"
    },
    "tags": []
   },
   "outputs": [],
   "source": [
    "predictions = []\n",
    "for name, classifier in classifiers.items():\n",
    "    classifier.fit(features_train, labels_train)\n",
    "    prediction = classifier.predict(features_test)\n",
    "    predictions.append((name, accuracy_score(labels_test, prediction)))"
   ]
  },
  {
   "cell_type": "markdown",
   "metadata": {
    "papermill": {
     "duration": 0.018261,
     "end_time": "2021-03-27T12:23:28.796959",
     "exception": false,
     "start_time": "2021-03-27T12:23:28.778698",
     "status": "completed"
    },
    "tags": []
   },
   "source": [
    "Output scores as table"
   ]
  },
  {
   "cell_type": "code",
   "execution_count": 12,
   "metadata": {
    "execution": {
     "iopub.execute_input": "2021-03-27T12:23:28.844854Z",
     "iopub.status.busy": "2021-03-27T12:23:28.844189Z",
     "iopub.status.idle": "2021-03-27T12:23:28.848431Z",
     "shell.execute_reply": "2021-03-27T12:23:28.847794Z"
    },
    "papermill": {
     "duration": 0.032681,
     "end_time": "2021-03-27T12:23:28.848592",
     "exception": false,
     "start_time": "2021-03-27T12:23:28.815911",
     "status": "completed"
    },
    "tags": []
   },
   "outputs": [
    {
     "data": {
      "text/html": [
       "<div>\n",
       "<style scoped>\n",
       "    .dataframe tbody tr th:only-of-type {\n",
       "        vertical-align: middle;\n",
       "    }\n",
       "\n",
       "    .dataframe tbody tr th {\n",
       "        vertical-align: top;\n",
       "    }\n",
       "\n",
       "    .dataframe thead th {\n",
       "        text-align: right;\n",
       "    }\n",
       "</style>\n",
       "<table border=\"1\" class=\"dataframe\">\n",
       "  <thead>\n",
       "    <tr style=\"text-align: right;\">\n",
       "      <th></th>\n",
       "      <th>Score</th>\n",
       "    </tr>\n",
       "    <tr>\n",
       "      <th>Classifier</th>\n",
       "      <th></th>\n",
       "    </tr>\n",
       "  </thead>\n",
       "  <tbody>\n",
       "    <tr>\n",
       "      <th>SVC</th>\n",
       "      <td>0.982057</td>\n",
       "    </tr>\n",
       "    <tr>\n",
       "      <th>KN</th>\n",
       "      <td>0.929426</td>\n",
       "    </tr>\n",
       "    <tr>\n",
       "      <th>NB</th>\n",
       "      <td>0.988038</td>\n",
       "    </tr>\n",
       "    <tr>\n",
       "      <th>DT</th>\n",
       "      <td>0.950957</td>\n",
       "    </tr>\n",
       "    <tr>\n",
       "      <th>LR</th>\n",
       "      <td>0.947967</td>\n",
       "    </tr>\n",
       "    <tr>\n",
       "      <th>RF</th>\n",
       "      <td>0.976077</td>\n",
       "    </tr>\n",
       "    <tr>\n",
       "      <th>AdaBoost</th>\n",
       "      <td>0.965909</td>\n",
       "    </tr>\n",
       "    <tr>\n",
       "      <th>BgC</th>\n",
       "      <td>0.962919</td>\n",
       "    </tr>\n",
       "    <tr>\n",
       "      <th>ETC</th>\n",
       "      <td>0.977273</td>\n",
       "    </tr>\n",
       "  </tbody>\n",
       "</table>\n",
       "</div>"
      ],
      "text/plain": [
       "               Score\n",
       "Classifier          \n",
       "SVC         0.982057\n",
       "KN          0.929426\n",
       "NB          0.988038\n",
       "DT          0.950957\n",
       "LR          0.947967\n",
       "RF          0.976077\n",
       "AdaBoost    0.965909\n",
       "BgC         0.962919\n",
       "ETC         0.977273"
      ]
     },
     "execution_count": 12,
     "metadata": {},
     "output_type": "execute_result"
    }
   ],
   "source": [
    "dataframe = pd.DataFrame.from_records(predictions, index=\"Classifier\", columns=[\"Classifier\", \"Score\"])\n",
    "dataframe"
   ]
  },
  {
   "cell_type": "markdown",
   "metadata": {
    "papermill": {
     "duration": 0.019889,
     "end_time": "2021-03-27T12:23:28.887334",
     "exception": false,
     "start_time": "2021-03-27T12:23:28.867445",
     "status": "completed"
    },
    "tags": []
   },
   "source": [
    "Visualize Data"
   ]
  },
  {
   "cell_type": "code",
   "execution_count": 13,
   "metadata": {
    "execution": {
     "iopub.execute_input": "2021-03-27T12:23:28.934196Z",
     "iopub.status.busy": "2021-03-27T12:23:28.933491Z",
     "iopub.status.idle": "2021-03-27T12:23:29.125735Z",
     "shell.execute_reply": "2021-03-27T12:23:29.126244Z"
    },
    "papermill": {
     "duration": 0.220292,
     "end_time": "2021-03-27T12:23:29.126441",
     "exception": false,
     "start_time": "2021-03-27T12:23:28.906149",
     "status": "completed"
    },
    "tags": []
   },
   "outputs": [
    {
     "data": {
      "text/plain": [
       "<matplotlib.legend.Legend at 0x7f9983615750>"
      ]
     },
     "execution_count": 13,
     "metadata": {},
     "output_type": "execute_result"
    },
    {
     "data": {
      "image/png": "[encoded data removed]",
      "text/plain": [
       "<Figure size 792x432 with 1 Axes>"
      ]
     },
     "metadata": {
      "needs_background": "light"
     },
     "output_type": "display_data"
    }
   ],
   "source": [
    "dataframe.plot(kind=\"bar\", ylim=(0.9,1.0), figsize=(11,6), align=\"center\", colormap=\"Accent\")\n",
    "plt.xticks(np.arange(9), dataframe.index)\n",
    "plt.ylabel(\"Accuracy Score\")\n",
    "plt.title(\"Classifiers\")\n",
    "plt.legend(bbox_to_anchor=(1.05, 1), loc=2, borderaxespad=0.)"
   ]
  }
 ],
 "metadata": {
  "kernelspec": {
   "display_name": "Python 3",
   "language": "python",
   "name": "python3"
  },
  "language_info": {
   "codemirror_mode": {
    "name": "ipython",
    "version": 3
   },
   "file_extension": ".py",
   "mimetype": "text/x-python",
   "name": "python",
   "nbconvert_exporter": "python",
   "pygments_lexer": "ipython3",
   "version": "3.7.9"
  },
  "papermill": {
   "default_parameters": {},
   "duration": 26.690845,
   "end_time": "2021-03-27T12:23:29.857488",
   "environment_variables": {},
   "exception": null,
   "input_path": "__notebook__.ipynb",
   "output_path": "__notebook__.ipynb",
   "parameters": {},
   "start_time": "2021-03-27T12:23:03.166643",
   "version": "2.2.2"
  }
 },
 "nbformat": 4,
 "nbformat_minor": 4
}
